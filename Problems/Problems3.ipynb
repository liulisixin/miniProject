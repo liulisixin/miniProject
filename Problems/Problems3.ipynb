{
 "nbformat": 4,
 "nbformat_minor": 0,
 "metadata": {
  "kernelspec": {
   "display_name": "Python 3",
   "language": "python",
   "name": "python3"
  },
  "language_info": {
   "codemirror_mode": {
    "name": "ipython",
    "version": 3
   },
   "file_extension": ".py",
   "mimetype": "text/x-python",
   "name": "python",
   "nbconvert_exporter": "python",
   "pygments_lexer": "ipython3",
   "version": "3.7.1"
  },
  "pycharm": {
   "stem_cell": {
    "cell_type": "raw",
    "source": [],
    "metadata": {
     "collapsed": false
    }
   }
  },
  "colab": {
   "name": "Problems3.ipynb",
   "provenance": [],
   "collapsed_sections": []
  }
 },
 "cells": [
  {
   "cell_type": "markdown",
   "metadata": {
    "id": "ZsuG_BtCG83e",
    "colab_type": "text"
   },
   "source": [
    "# Problems 3 - Polynomial and Logistic Regression"
   ]
  },
  {
   "cell_type": "markdown",
   "metadata": {
    "id": "39v4FemMG83g",
    "colab_type": "text"
   },
   "source": [
    "## Polynomial Regression\n",
    "\n",
    "Suppose you are given the following samples for a problem:"
   ]
  },
  {
   "cell_type": "code",
   "metadata": {
    "pycharm": {
     "is_executing": false
    },
    "id": "rz0xdC4DG83i",
    "colab_type": "code",
    "colab": {}
   },
   "source": [
    "import numpy as np\n",
    "\n",
    "feat = np.array([ 3.69, -0.01,  3.92,  3.76,  4.77,  2.65, -3.2 , -3.68,  4.84,\n",
    "        2.35, -3.46,  3.36,  0.05, -2.43,  4.5 ,  2.99, -4.58, -2.38,\n",
    "        4.75, -0.99,  2.43,  1.03, -0.91,  0.49, -1.07, -4.56,  2.7 ,\n",
    "       -1.89, -4.46, -3.22,  4.11, -1.4 , -2.15, -3.08,  1.22,  4.15,\n",
    "       -3.32, -0.96,  2.28, -0.22,  1.63, -3.16,  0.57,  1.12,  0.46,\n",
    "       -4.42, -1.98, -4.59, -3.27,  3.77])\n",
    "\n",
    "out = np.array([ -4.01526321,   4.91472839,  -6.45656423,  -2.62612898,\n",
    "        -8.51413128,   3.34151409,  12.88771229,  34.65904607,\n",
    "       -13.35431265,   4.30981981,  21.88485042,   1.12385015,\n",
    "        -2.91774249,  14.50057692,  -1.24198533,  -4.55757528,\n",
    "        45.46247156,   8.26033485, -17.30334323,  -9.70654351,\n",
    "       -11.24523311, -10.24578944,   2.52139723,   9.46442395,\n",
    "        -2.6732785 ,  47.77493771,  -1.3560507 ,  -3.87657515,\n",
    "        47.12672411,  19.07990287,  -0.9455647 ,   0.35427309,\n",
    "         9.80390966,  19.42353943,   3.11970979,   3.44865065,\n",
    "        21.42035593,  -7.88242488,   5.64544367,  10.20227577,\n",
    "        -0.62195752,  14.75901715,   9.12831525,   7.21057155,\n",
    "         4.53708356,  45.98559999,  -3.86594125,  50.79311745,\n",
    "        25.99250789,  -3.46524068])"
   ],
   "execution_count": 0,
   "outputs": []
  },
  {
   "cell_type": "markdown",
   "metadata": {
    "id": "CXQeqPknG83n",
    "colab_type": "text"
   },
   "source": [
    "Let's make a plot of the above samples"
   ]
  },
  {
   "cell_type": "code",
   "metadata": {
    "pycharm": {
     "is_executing": false
    },
    "id": "IDr9MGFJG83o",
    "colab_type": "code",
    "colab": {
     "base_uri": "https://localhost:8080/",
     "height": 282
    },
    "outputId": "c658c7de-dce1-45ae-8a45-20d83c0a67ff"
   },
   "source": [
    "import matplotlib.pyplot as plt\n",
    "\n",
    "plt.plot(feat, out, 'bo')"
   ],
   "execution_count": 2,
   "outputs": [
    {
     "output_type": "execute_result",
     "data": {
      "text/plain": [
       "[<matplotlib.lines.Line2D at 0x7f96270453c8>]"
      ]
     },
     "metadata": {
      "tags": []
     },
     "execution_count": 2
    },
    {
     "output_type": "display_data",
     "data": {
      "image/png": "[encoded data removed]",
      "text/plain": [
       "<Figure size 432x288 with 1 Axes>"
      ]
     },
     "metadata": {
      "tags": []
     }
    }
   ]
  },
  {
   "cell_type": "markdown",
   "metadata": {
    "id": "5ze7hOm9G83v",
    "colab_type": "text"
   },
   "source": [
    "This is the gradient descent function we have been using until now, let's define it again:"
   ]
  },
  {
   "cell_type": "code",
   "metadata": {
    "pycharm": {
     "is_executing": false
    },
    "id": "HZuJa4-uG83x",
    "colab_type": "code",
    "colab": {}
   },
   "source": [
    "def GradientDescent_np(X, y, max_iterations=100, alpha=1):\n",
    "    m = X.shape[0] # number of samples\n",
    "    J = np.zeros(max_iterations)\n",
    "\n",
    "    # y must be a column vector of shape m x 1\n",
    "    y = y.reshape(m, 1)\n",
    "    \n",
    "    #initialize the parameters to zero\n",
    "    theta = np.zeros(shape=(X.shape[1], 1))\n",
    "    \n",
    "    # Repeat for max_iterations (it would be nice to also check convergence...)\n",
    "    for iteration in range(max_iterations):\n",
    "        grad = np.dot(X.T , (np.dot(X,theta) - y)) / m;\n",
    "        theta = theta - alpha*grad\n",
    "        J[iteration] = sum( (np.dot(X,theta) - y)**2)/m\n",
    "    return [theta, J]"
   ],
   "execution_count": 0,
   "outputs": []
  },
  {
   "cell_type": "markdown",
   "metadata": {
    "id": "4dxJu-jiG831",
    "colab_type": "text"
   },
   "source": [
    "In order to use the linear gradient descent above to fit a polynomial, what we have to do is generate new features, from the existing ones. For example we could generate a new feature $feat_2$ and calculate its values as the square of $feat$: $feat_2 = feat^2$.\n",
    "\n",
    "Similarly we could create more new features like:\n",
    "\n",
    "$feat_3 = feat^3$\n",
    "\n",
    "$feat_4 = feat^4$\n",
    "\n",
    "$...$\n",
    "\n",
    "Let's create such new features up to the power of 4. Here we take a very inefficient, explicit route, see the function MapFeatures defined further below for a way to automate this process."
   ]
  },
  {
   "cell_type": "code",
   "metadata": {
    "pycharm": {
     "is_executing": false
    },
    "id": "TH_zGFg9G832",
    "colab_type": "code",
    "colab": {}
   },
   "source": [
    "#Create a new feature which is the feat raised to the power of two\n",
    "feat2 = feat ** 2\n",
    "feat3 = feat ** 3\n",
    "feat4 = feat ** 4\n",
    "\n",
    "#prepare the design matrix, starting with a column of ones (this is the x_0 for the bias term), and concatenating the size and rooms features\n",
    "X = np.concatenate( (np.ones(shape=(feat.shape[0], 1)), feat.reshape(feat.shape[0], 1), \\\n",
    "                    feat2.reshape(feat2.shape[0], 1), feat3.reshape(feat3.shape[0], 1), \\\n",
    "                    feat4.reshape(feat4.shape[0], 1)), axis=1)\n",
    "\n",
    "# Scale features and set them to zero mean (standarize)\n",
    "mu = np.mean(X, 0) #calculate the mean for every column\n",
    "sigma = np.std(X, 0, ddof=1) #calculate the standard deviation for every column\n",
    "\n",
    "#normalize everything except X0 (the artificial first feature that we set to ones)\n",
    "X[:,1] = (X[:,1] - mu[1]) / sigma[1];\n",
    "X[:,2] = (X[:,2] - mu[2]) / sigma[2];\n",
    "X[:,3] = (X[:,3] - mu[3]) / sigma[3];\n",
    "X[:,4] = (X[:,4] - mu[4]) / sigma[4];"
   ],
   "execution_count": 0,
   "outputs": []
  },
  {
   "cell_type": "markdown",
   "metadata": {
    "id": "7_ARtxTDG837",
    "colab_type": "text"
   },
   "source": [
    "Let's now use our gradient descent function to fit a 2-degree polynomial model to the same data. To do this, we should pass to the function the set of features up to the power of 2: `[1, feat, feat2]`"
   ]
  },
  {
   "cell_type": "code",
   "metadata": {
    "pycharm": {
     "is_executing": false
    },
    "id": "uwQ9x0MvG839",
    "colab_type": "code",
    "colab": {
     "base_uri": "https://localhost:8080/",
     "height": 580
    },
    "outputId": "7967453e-1036-4993-e4fc-a73dc57e831e"
   },
   "source": [
    "[theta, J] = GradientDescent_np(X[:,0:3], out, alpha=0.1)\n",
    "print('theta result:{0}'.format(theta))\n",
    "\n",
    "#Plot the evolution of the cost\n",
    "plt.plot(np.arange(len(J)), J, 'bo')\n",
    "\n",
    "# Plot line y = theta_0 + theta_1 * x + theta_2 * x^2\n",
    "plt.figure()\n",
    "plt.plot(feat, out, 'bo')\n",
    "xx = np.arange(min(feat),max(feat), 0.1)\n",
    "yy = [theta[0] + theta[1] * (x-mu[1])/sigma[1] + theta[2] * (x**2-mu[2])/sigma[2] for x in xx]\n",
    "plt.plot(xx,yy)"
   ],
   "execution_count": 10,
   "outputs": [
    {
     "output_type": "stream",
     "text": [
      "theta result:[[  7.84509192]\n",
      " [-13.60627612]\n",
      " [  7.01751284]]\n"
     ],
     "name": "stdout"
    },
    {
     "output_type": "execute_result",
     "data": {
      "text/plain": [
       "[<matplotlib.lines.Line2D at 0x7f9626ada160>]"
      ]
     },
     "metadata": {
      "tags": []
     },
     "execution_count": 10
    },
    {
     "output_type": "display_data",
     "data": {
      "image/png": "[encoded data removed]",
      "text/plain": [
       "<Figure size 432x288 with 1 Axes>"
      ]
     },
     "metadata": {
      "tags": []
     }
    },
    {
     "output_type": "display_data",
     "data": {
      "image/png": "[encoded data removed]",
      "text/plain": [
       "<Figure size 432x288 with 1 Axes>"
      ]
     },
     "metadata": {
      "tags": []
     }
    }
   ]
  },
  {
   "cell_type": "markdown",
   "metadata": {
    "id": "dsCfkZNwG84B",
    "colab_type": "text"
   },
   "source": [
    "<font color=blue>What is the final cost value of the above fit?</font>"
   ]
  },
  {
   "cell_type": "code",
   "metadata": {
    "pycharm": {
     "is_executing": false
    },
    "id": "PqlblmPIG84C",
    "colab_type": "code",
    "colab": {
     "base_uri": "https://localhost:8080/",
     "height": 34
    },
    "outputId": "843bd0ff-796d-4969-9214-4f5986e21c89"
   },
   "source": [
    "#Your Code Here#\n",
    "print(J[-1])\n"
   ],
   "execution_count": 11,
   "outputs": [
    {
     "output_type": "stream",
     "text": [
      "67.55822307549252\n"
     ],
     "name": "stdout"
    }
   ]
  },
  {
   "cell_type": "markdown",
   "metadata": {
    "id": "BMFZrM4SG84G",
    "colab_type": "text"
   },
   "source": [
    "<font color=blue>Can you fit a 3-degree polynomial and a 4-degree polynomial? What is the final cost value in these cases?</font>"
   ]
  },
  {
   "cell_type": "markdown",
   "metadata": {
    "collapsed": false,
    "pycharm": {
     "name": "#%% md\n"
    },
    "id": "0imy_fzsG84H",
    "colab_type": "text"
   },
   "source": [
    "3-degree polynomial:"
   ]
  },
  {
   "cell_type": "code",
   "metadata": {
    "pycharm": {
     "is_executing": false
    },
    "id": "zN79BjMsG84J",
    "colab_type": "code",
    "colab": {
     "base_uri": "https://localhost:8080/",
     "height": 597
    },
    "outputId": "57b531b8-21dc-48e9-fd5f-0fa189d8575a"
   },
   "source": [
    "#Your Code Here#\n",
    "degree = 3\n",
    "def yy_output(theta,x,mu,sigma,degree):\n",
    "  yy_value = 0\n",
    "  yy_value += theta[0]\n",
    "  for i in range(degree):\n",
    "    yy_value += (theta[i+1] * (x**(i+1)-mu[i+1])/sigma[i+1])\n",
    "  return yy_value\n",
    "\n",
    "[theta, J] = GradientDescent_np(X[:,0:(degree+1)], out, alpha=0.1)\n",
    "print('theta result:{0}'.format(theta))\n",
    "\n",
    "#Plot the evolution of the cost\n",
    "plt.plot(np.arange(len(J)), J, 'bo')\n",
    "\n",
    "# Plot line y = theta_0 + theta_1 * x + theta_2 * x^2\n",
    "plt.figure()\n",
    "plt.plot(feat, out, 'bo')\n",
    "xx = np.arange(min(feat),max(feat), 0.1)\n",
    "yy = [yy_output(theta,x,mu,sigma,degree) for x in xx]\n",
    "\n",
    "plt.plot(xx,yy)\n",
    "\n",
    "print(\"Final cost = \", J[-1])\n"
   ],
   "execution_count": 37,
   "outputs": [
    {
     "output_type": "stream",
     "text": [
      "theta result:[[  7.84509192]\n",
      " [ -2.76031548]\n",
      " [  7.39547525]\n",
      " [-12.08292218]]\n",
      "Final cost =  32.71220438060805\n"
     ],
     "name": "stdout"
    },
    {
     "output_type": "display_data",
     "data": {
      "image/png": "[encoded data removed]",
      "text/plain": [
       "<Figure size 432x288 with 1 Axes>"
      ]
     },
     "metadata": {
      "tags": []
     }
    },
    {
     "output_type": "display_data",
     "data": {
      "image/png": "[encoded data removed]",
      "text/plain": [
       "<Figure size 432x288 with 1 Axes>"
      ]
     },
     "metadata": {
      "tags": []
     }
    }
   ]
  },
  {
   "cell_type": "markdown",
   "metadata": {
    "id": "SJap3vmdHQeQ",
    "colab_type": "text"
   },
   "source": [
    "4-degree polynomial:"
   ]
  },
  {
   "cell_type": "code",
   "metadata": {
    "id": "4F4itdXSHLwy",
    "colab_type": "code",
    "colab": {
     "base_uri": "https://localhost:8080/",
     "height": 614
    },
    "outputId": "60c368f7-7d57-48b6-f377-a8e4cabdbf36"
   },
   "source": [
    "#Your Code Here#\n",
    "degree = 4\n",
    "def yy_output(theta,x,mu,sigma,degree):\n",
    "  yy_value = 0\n",
    "  yy_value += theta[0]\n",
    "  for i in range(degree):\n",
    "    yy_value += (theta[i+1] * (x**(i+1)-mu[i+1])/sigma[i+1])\n",
    "  return yy_value\n",
    "\n",
    "[theta, J] = GradientDescent_np(X[:,0:(degree+1)], out, alpha=0.1)\n",
    "print('theta result:{0}'.format(theta))\n",
    "\n",
    "#Plot the evolution of the cost\n",
    "plt.plot(np.arange(len(J)), J, 'bo')\n",
    "\n",
    "# Plot line y = theta_0 + theta_1 * x + theta_2 * x^2\n",
    "plt.figure()\n",
    "plt.plot(feat, out, 'bo')\n",
    "xx = np.arange(min(feat),max(feat), 0.1)\n",
    "yy = [yy_output(theta,x,mu,sigma,degree) for x in xx]\n",
    "\n",
    "plt.plot(xx,yy)\n",
    "\n",
    "print(\"Final cost = \", J[-1])"
   ],
   "execution_count": 38,
   "outputs": [
    {
     "output_type": "stream",
     "text": [
      "theta result:[[  7.84509192]\n",
      " [ -2.72199217]\n",
      " [  4.64446176]\n",
      " [-12.20870513]\n",
      " [  2.81869134]]\n",
      "Final cost =  32.65888492403257\n"
     ],
     "name": "stdout"
    },
    {
     "output_type": "display_data",
     "data": {
      "image/png": "[encoded data removed]",
      "text/plain": [
       "<Figure size 432x288 with 1 Axes>"
      ]
     },
     "metadata": {
      "tags": []
     }
    },
    {
     "output_type": "display_data",
     "data": {
      "image/png": "[encoded data removed]",
      "text/plain": [
       "<Figure size 432x288 with 1 Axes>"
      ]
     },
     "metadata": {
      "tags": []
     }
    }
   ]
  },
  {
   "cell_type": "markdown",
   "metadata": {
    "id": "_cVu4cFPG84O",
    "colab_type": "text"
   },
   "source": [
    "## Logistic Regression"
   ]
  },
  {
   "cell_type": "markdown",
   "metadata": {
    "id": "w9-rO0k9G84P",
    "colab_type": "text"
   },
   "source": [
    "We are going train a binary classifier using the Logistic Regression model: $h_\\theta(\\textbf{x}) = \\frac{1}{1+e^{-\\theta^\\intercal \\textbf{x}}}$\n",
    "\n",
    "For this we need to fit the parameters $\\theta$ to our dataset by minimizing the cost function $J$:\n",
    "\n",
    "$\\hat{\\theta} = \\underset{\\theta}{\\text{minimize}} {1 \\over m} \\sum_{i=1}^m{-y^{(i)}\\log(h_\\theta(x^{(i)}) - (1-y^{(i)})\\log(1-h_\\theta(x^{(i)})}$\n",
    "\n",
    "where $(x^{(i)},y^{(i)})$ is the i-th training sample, and $m$ is the number of samples in the training set.\n",
    "\n",
    "We are going to use the Gradient Descent algorithm to solve this minimization problem, in pseudo-code:\n",
    "\n",
    "repeat until convergence (or max. number of iterations) \n",
    "\n",
    "{\n",
    "\n",
    "$\\theta_j := \\theta_j - \\alpha \\frac{\\partial}{\\partial \\theta_j} J(\\theta)$ (for all j)\n",
    "\n",
    "}\n",
    "\n",
    "where $\\alpha$ is the learning rate, and the partial derivative (the gradient) of the cost function is given by:\n",
    "\n",
    "$\\frac{\\partial}{\\partial \\theta_j} J(\\theta) = {1 \\over m} \\sum_{i=1}^m{(h_\\theta(x^{(i)}) - y^{(i)}) x_j^{(i)}}$\n",
    "\n",
    "Notice that the partial derivative of our cost function has the same form as for the Linear Regression cost function, however the difference is in the term $h_\\theta(\\textbf{x})$, our model. In the case of Logistic Regression $h_\\theta(\\textbf{x})$ is the sigmoid function of $\\theta^\\intercal \\textbf{x}$.\n",
    "\n",
    "Thus, the Python code of our **GradientDescent** function is going to be quite the same as for Linear Regression, but calling the **sigmoid** function to evaluate the Logistic Regression model $h_\\theta(\\textbf{x})$."
   ]
  },
  {
   "cell_type": "code",
   "metadata": {
    "jupyter": {
     "outputs_hidden": false
    },
    "id": "6uo2E2gRG84Q",
    "colab_type": "code",
    "colab": {},
    "pycharm": {
     "is_executing": false
    }
   },
   "source": [
    "import numpy as np\n",
    "\n",
    "def sigmoid(X):\n",
    "    '''\n",
    "    Computes the Sigmoid function of the input argument X.\n",
    "    '''\n",
    "    return 1.0/(1+np.exp(-X))\n",
    "\n",
    "\n",
    "def GradientDescent_logistic(x,y,max_iterations=2500, alpha=0.1):\n",
    "    \n",
    "    m,n = x.shape # number of samples, number of features\n",
    "\n",
    "    # y must be a column vector\n",
    "    y = y.reshape(m,1)\n",
    "    \n",
    "    #initialize the parameters\n",
    "    theta = np.ones(shape=(n,1)) \n",
    "    \n",
    "    # Repeat until convergence (or max_iterations)\n",
    "    for iteration in range(max_iterations):\n",
    "        h = sigmoid(np.dot(x,theta))\n",
    "        error = (h-y)\n",
    "        gradient = np.dot(x.T , error) / m\n",
    "        theta = theta - alpha*gradient\n",
    "    return theta\n",
    "\n",
    "\n",
    "def classifyVector(X, theta):\n",
    "    '''\n",
    "    Evaluate the Logistic Regression model h(x) with theta parameters,\n",
    "    and returns the predicted label of x.\n",
    "    '''\n",
    "    prob = sigmoid(sum(np.dot(X,theta)))\n",
    "    if prob > 0.5: return 1.0\n",
    "    else: return 0.0"
   ],
   "execution_count": 1,
   "outputs": []
  },
  {
   "cell_type": "markdown",
   "metadata": {
    "id": "LT4uLDp2G84T",
    "colab_type": "text"
   },
   "source": [
    "Let's see how to use this code in a synthetic dataset. First load the data and plot it."
   ]
  },
  {
   "cell_type": "code",
   "metadata": {
    "jupyter": {
     "outputs_hidden": false
    },
    "id": "m36_2Dc_G84V",
    "colab_type": "code",
    "colab": {
     "base_uri": "https://localhost:8080/",
     "height": 232
    },
    "outputId": "a2c2bc8c-1453-4db9-9604-04e2c28f73b7",
    "pycharm": {
     "is_executing": false
    }
   },
   "source": [
    "# Load the synthetic dataset\n",
    "\n",
    "import pickle\n",
    "\n",
    "with open('./Log_data.pkl', 'rb') as f:\n",
    "    (X,y) = pickle.load(f, encoding='latin1')\n",
    "\n",
    "print (X.shape)\n",
    "print (y.shape)"
   ],
   "execution_count": 2,
   "outputs": [
    {
     "name": "stdout",
     "text": [
      "(117, 2)\n",
      "(117,)\n"
     ],
     "output_type": "stream"
    }
   ]
  },
  {
   "cell_type": "code",
   "metadata": {
    "jupyter": {
     "outputs_hidden": false
    },
    "id": "Shxhxj6MG84Y",
    "colab_type": "code",
    "colab": {},
    "outputId": "b235de9d-7148-4efd-c710-ba6dedb52ffe",
    "pycharm": {
     "is_executing": false
    }
   },
   "source": [
    "# Plot the data\n",
    "\n",
    "%matplotlib inline \n",
    "import matplotlib.pyplot as plt\n",
    "\n",
    "plt.scatter(X[y==1, 0], X[y==1, 1], marker='o', c='b') #positive samples\n",
    "plt.scatter(X[y==0, 0], X[y==0, 1], marker='x', c='r') #negative samples\n",
    "plt.show()"
   ],
   "execution_count": 3,
   "outputs": [
    {
     "data": {
      "text/plain": "<Figure size 432x288 with 1 Axes>",
      "image/png": "[encoded data removed]"
     },
     "metadata": {
      "needs_background": "light"
     },
     "output_type": "display_data"
    }
   ]
  },
  {
   "cell_type": "markdown",
   "metadata": {
    "id": "o6ygePurG84c",
    "colab_type": "text"
   },
   "source": [
    "Now, we train the Logistic Regression classifier and draw its decision boundary in a 2D plot."
   ]
  },
  {
   "cell_type": "code",
   "metadata": {
    "jupyter": {
     "outputs_hidden": false
    },
    "id": "c8sa_9mqG84e",
    "colab_type": "code",
    "colab": {},
    "outputId": "432978e2-e29b-4ae3-d57c-fb97bd742e3a",
    "pycharm": {
     "is_executing": false
    }
   },
   "source": [
    "# Append the x_0 column (for the bias term theta_0)\n",
    "x = np.ones(shape=(X.shape[0], 1))\n",
    "x = np.append(x,X,axis=1)\n",
    "\n",
    "#Logistic Regression gradient descent optimization\n",
    "w = GradientDescent_logistic(x,y)\n",
    "\n",
    "#Evaluate the classifier accuracy in the training data\n",
    "H = [classifyVector(x[i,:],w) for i in range(x.shape[0])]\n",
    "print (\"Training Accuracy : {0}\".format(str(float(np.sum(H == y)) / y.shape[0])))\n",
    "\n",
    "#Plot data\n",
    "plt.scatter(X[y==1, 0], X[y==1, 1], marker='o', c='b') #positive samples\n",
    "plt.scatter(X[y==0, 0], X[y==0, 1], marker='x', c='r') #negative samples\n",
    "\n",
    "#Plot Decision Boundary\n",
    "u = np.linspace(-1, 1.5, 50)\n",
    "v = np.linspace(-1, 1.5, 50)\n",
    "z = np.zeros(shape=(len(u), len(v)))\n",
    "for i in range(len(u)):\n",
    "    for j in range(len(v)):\n",
    "        z[i, j] = sigmoid(np.dot(np.array([1,u[i],v[j]]),w))\n",
    "\n",
    "z = z.T\n",
    "\n",
    "cs = plt.contour(u, v, z, levels=[0.5])\n",
    "plt.clabel(cs, inline=1, fontsize=10)"
   ],
   "execution_count": 4,
   "outputs": [
    {
     "name": "stdout",
     "text": [
      "Training Accuracy : 0.5470085470085471\n"
     ],
     "output_type": "stream"
    },
    {
     "data": {
      "text/plain": "<a list of 1 text.Text objects>"
     },
     "metadata": {},
     "output_type": "execute_result",
     "execution_count": 4
    },
    {
     "data": {
      "text/plain": "<Figure size 432x288 with 1 Axes>",
      "image/png": "[encoded data removed]"
     },
     "metadata": {
      "needs_background": "light"
     },
     "output_type": "display_data"
    }
   ]
  },
  {
   "cell_type": "markdown",
   "metadata": {
    "id": "hDNTKcdTG84i",
    "colab_type": "text"
   },
   "source": [
    "As can be seen in the previous plot the classification boundary with 2 features fits very poorly our data.\n",
    "\n",
    "One way to fit the data better is to create more features from each data point. We will map the features  into all polynomial terms of $x_1$ and $x_2$ up to the sixth power. \n",
    "\n",
    "$MapFeature(x_1,x_2) = [x_1,x_2,x_1^2,x_1x_2,x_2^2,x_1^3, \\dots , x_1x_2^5, x_2^6]$\n",
    "\n",
    "As a result of this mapping, our vector of two features is transformed into a 28-D vector. The Logistic Regression classifier trained on this high dimensional feature space will have a more complex decision boundary (i.e. more degrees of freedom) and will appear nonlinear when drawn in the 2D plot."
   ]
  },
  {
   "cell_type": "code",
   "metadata": {
    "jupyter": {
     "outputs_hidden": false
    },
    "id": "p_mO9zErG84j",
    "colab_type": "code",
    "colab": {},
    "pycharm": {
     "is_executing": false
    }
   },
   "source": [
    "def map_feature(x1, x2, mu=np.array([]), sigma=np.array([]), degree = 6):\n",
    "    '''\n",
    "    Maps 2D features to quadratic features.\n",
    "    Returns a new feature vector with more features, comprising of\n",
    "    x1, x2, x1^2, x2^2, x1*x2, x1*x2^2, etc...\n",
    "    '''\n",
    "    \n",
    "    x1.shape = (x1.size, 1)\n",
    "    x2.shape = (x2.size, 1)\n",
    "    out = np.ones(shape=(x1[:, 0].size, 1))\n",
    "    \n",
    "    for i in range(1, degree + 1):\n",
    "        for j in range(i + 1):\n",
    "            r = (x1 ** (i - j)) * (x2 ** j)\n",
    "            out = np.append(out, r, axis=1)\n",
    "\n",
    "    # Normalise the newly created features\n",
    "    if (len(mu)==0): #calculate the mu and sigmas\n",
    "        mu = np.mean(out, 0) #calculate the mean for every column\n",
    "        sigma = np.std(out, 0, ddof=1) #calculate the standard deviation for every column\n",
    "\n",
    "    # Scale features and set them to zero mean (standarize)\n",
    "    # normalize everything except X0 (the artificial first feature that we set to ones)\n",
    "    for i in range(1, out.shape[1]):\n",
    "        out[:,i] = (out[:,i] - mu[i]) / sigma[i];\n",
    "\n",
    "    return (out, mu, sigma)"
   ],
   "execution_count": 5,
   "outputs": []
  },
  {
   "cell_type": "code",
   "metadata": {
    "jupyter": {
     "outputs_hidden": false
    },
    "id": "XkvPKakvG84p",
    "colab_type": "code",
    "colab": {},
    "outputId": "ce845d8a-6ebb-484d-b9da-e85dda65db37",
    "pycharm": {
     "is_executing": false
    }
   },
   "source": [
    "deg = 6\n",
    "(features, m, s) = map_feature(X[:,0], X[:,1], degree=deg)\n",
    "print(features.shape)"
   ],
   "execution_count": 6,
   "outputs": [
    {
     "name": "stdout",
     "text": [
      "(117, 28)\n"
     ],
     "output_type": "stream"
    }
   ]
  },
  {
   "cell_type": "code",
   "metadata": {
    "jupyter": {
     "outputs_hidden": false
    },
    "id": "R-A2IobkG84t",
    "colab_type": "code",
    "colab": {},
    "outputId": "ed175685-1858-4798-b5b0-f8e53df8a7f4",
    "pycharm": {
     "is_executing": false
    }
   },
   "source": [
    "#Logistic Regression gradient descent optimization\n",
    "w = GradientDescent_logistic(features,y)\n",
    "\n",
    "H = [classifyVector(features[i,:],w) for i in range(features.shape[0])]\n",
    "print (\"Training Accuracy : {0}\".format(str(float(np.sum(H == y)) / y.shape[0])))"
   ],
   "execution_count": 7,
   "outputs": [
    {
     "name": "stdout",
     "text": [
      "Training Accuracy : 0.8461538461538461\n"
     ],
     "output_type": "stream"
    }
   ]
  },
  {
   "cell_type": "code",
   "metadata": {
    "jupyter": {
     "outputs_hidden": false
    },
    "id": "GNrLpPJjG84x",
    "colab_type": "code",
    "colab": {},
    "outputId": "803c09e2-91d8-4345-ec54-07fe9ae11449",
    "pycharm": {
     "is_executing": false
    }
   },
   "source": [
    "#Plot data\n",
    "plt.scatter(X[y==1, 0], X[y==1, 1], marker='o', c='b') #positive samples\n",
    "plt.scatter(X[y==0, 0], X[y==0, 1], marker='x', c='r') #negative samples\n",
    "\n",
    "#Plot Boundary\n",
    "u = np.linspace(np.min(X[:,0]), np.max(X[:,0]), 50)\n",
    "v = np.linspace(np.min(X[:,1]), np.max(X[:,1]), 50)\n",
    "z = np.zeros(shape=(len(u), len(v)))\n",
    "for i in range(len(u)):\n",
    "    for j in range(len(v)):\n",
    "        z[i, j] = sigmoid(map_feature(np.array(u[i]),np.array(v[j]), mu = m, sigma = s, degree = deg)[0].dot(w))\n",
    "        \n",
    "z = z.T\n",
    "cs = plt.contour(u, v, z, levels=[0.5])\n",
    "plt.clabel(cs, inline=1, fontsize=10)\n"
   ],
   "execution_count": 8,
   "outputs": [
    {
     "data": {
      "text/plain": "<a list of 1 text.Text objects>"
     },
     "metadata": {},
     "output_type": "execute_result",
     "execution_count": 8
    },
    {
     "data": {
      "text/plain": "<Figure size 432x288 with 1 Axes>",
      "image/png": "[encoded data removed]"
     },
     "metadata": {
      "needs_background": "light"
     },
     "output_type": "display_data"
    }
   ]
  },
  {
   "cell_type": "markdown",
   "metadata": {
    "id": "LYBcp80XG840",
    "colab_type": "text"
   },
   "source": [
    "<font color=blue>Try generating a different number of features by changing the value of `deg` (e.g. features up to degree 1, 2, 3, ...15) and run the code above again for different degrees. What do you observe?"
   ]
  },
  {
   "cell_type": "markdown",
   "metadata": {
    "id": "Khm_iU57G841",
    "colab_type": "text"
   },
   "source": [
    "---\n",
    "\n",
    "*Your answer here*\n",
    "\n",
    "\n",
    "\n",
    "---\n"
   ]
  },
  {
   "cell_type": "code",
   "metadata": {
    "id": "bRfsZ3F8G842",
    "colab_type": "code",
    "colab": {},
    "pycharm": {
     "is_executing": false
    }
   },
   "source": [
    "deg = 15\n",
    "(features, m, s) = map_feature(X[:,0], X[:,1], degree=deg)\n",
    "print(features.shape)\n",
    "\n",
    "#Logistic Regression gradient descent optimization\n",
    "w = GradientDescent_logistic(features,y)\n",
    "\n",
    "H = [classifyVector(features[i,:],w) for i in range(features.shape[0])]\n",
    "print (\"Training Accuracy : {0}\".format(str(float(np.sum(H == y)) / y.shape[0])))\n",
    "\n",
    "#Plot data\n",
    "plt.scatter(X[y==1, 0], X[y==1, 1], marker='o', c='b') #positive samples\n",
    "plt.scatter(X[y==0, 0], X[y==0, 1], marker='x', c='r') #negative samples\n",
    "\n",
    "#Plot Boundary\n",
    "u = np.linspace(np.min(X[:,0]), np.max(X[:,0]), 50)\n",
    "v = np.linspace(np.min(X[:,1]), np.max(X[:,1]), 50)\n",
    "z = np.zeros(shape=(len(u), len(v)))\n",
    "for i in range(len(u)):\n",
    "    for j in range(len(v)):\n",
    "        z[i, j] = sigmoid(map_feature(np.array(u[i]),np.array(v[j]), mu = m, sigma = s, degree = deg)[0].dot(w))\n",
    "        \n",
    "z = z.T\n",
    "cs = plt.contour(u, v, z, levels=[0.5])\n",
    "plt.clabel(cs, inline=1, fontsize=20)"
   ],
   "execution_count": 10,
   "outputs": [
    {
     "name": "stdout",
     "text": [
      "(117, 136)\n",
      "Training Accuracy : 0.8974358974358975\n"
     ],
     "output_type": "stream"
    },
    {
     "data": {
      "text/plain": "<a list of 2 text.Text objects>"
     },
     "metadata": {},
     "output_type": "execute_result",
     "execution_count": 10
    },
    {
     "data": {
      "text/plain": "<Figure size 432x288 with 1 Axes>",
      "image/png": "[encoded data removed]"
     },
     "metadata": {
      "needs_background": "light"
     },
     "output_type": "display_data"
    }
   ]
  },
  {
   "cell_type": "markdown",
   "source": [
    "When degree equals 6, the contour forms a circle. However, \n",
    "the contour does not form a circle when degree equals 15, which seems to be overfit."
   ],
   "metadata": {
    "collapsed": false,
    "pycharm": {
     "name": "#%% md\n"
    }
   }
  }
 ]
}