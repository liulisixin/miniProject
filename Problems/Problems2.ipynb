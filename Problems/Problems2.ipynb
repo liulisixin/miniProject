{
 "cells": [
  {
   "cell_type": "markdown",
   "metadata": {},
   "source": [
    "# Problems 2 - Multiple Linear Regression / Normalization"
   ]
  },
  {
   "cell_type": "markdown",
   "metadata": {},
   "source": [
    "Let's revisit the problem of house prices. The task to be done is to predict the price of a house given some 'features' of the house. Our input data comprises two features per sample (size of the house, and number of rooms), while the output data is the price of each sample.\n",
    "\n",
    "Here is the data:\n",
    "\n",
    "| Size (square feet) | Rooms | Price (USD) |Size (square feet) | Rooms | Price (USD) |Size (square feet) | Rooms | Price (USD) |Size (square feet) | Rooms | Price (USD) |\n",
    "|:------ |:----|:----------|:------ |:----|:----------|:------ |:----|:----------|:------ |:----|:----------|\n",
    "| 2104.0 | 3.0 |  **399900.0** | 1890.0 | 3.0 |  **329999.0** | 3890.0 | 3.0 |  **573900.0** | 1239.0 | 3.0 |  **229900.0** |\n",
    "| 1600.0 | 3.0 |  **329900.0** | 4478.0 | 5.0 |  **699900.0** | 1100.0 | 3.0 |  **249900.0** | 2132.0 | 4.0 |  **345000.0** |\n",
    "| 2400.0 | 3.0 |  **369000.0** | 1268.0 | 3.0 |  **259900.0** | 1458.0 | 3.0 |  **464500.0** | 4215.0 | 4.0 |  **549000.0** | \n",
    "| 1416.0 | 2.0 |  **232000.0** | 2300.0 | 4.0 |  **449900.0** | 2526.0 | 3.0 |  **469000.0** | 2162.0 | 4.0 |  **287000.0** |\n",
    "| 3000.0 | 4.0 |  **539900.0** | 1320.0 | 2.0 |  **299900.0** | 2200.0 | 3.0 |  **475000.0** | 1664.0 | 2.0 |  **368500.0** | \n",
    "| 1985.0 | 4.0 |  **299900.0** | 1236.0 | 3.0 |  **199900.0** | 2637.0 | 3.0 |  **299900.0** | 2238.0 | 3.0 |  **329900.0** | \n",
    "| 1534.0 | 3.0 |  **314900.0** | 2609.0 | 4.0 |  **499998.0** | 1839.0 | 2.0 |  **349900.0** | 2567.0 | 4.0 |  **314000.0** | \n",
    "| 1427.0 | 3.0 |  **198999.0** | 3031.0 | 4.0 |  **599000.0** | 1000.0 | 1.0 |  **169900.0** | 1200.0 | 3.0 |  **299000.0** | \n",
    "| 1380.0 | 3.0 |  **212000.0** | 1767.0 | 3.0 |  **252900.0** | 2040.0 | 4.0 |  **314900.0** | 852.0  | 2.0 |  **179900.0** | \n",
    "| 1494.0 | 3.0 |  **242500.0** | 1888.0 | 2.0 |  **255000.0** | 3137.0 | 3.0 |  **579900.0** | 1852.0 | 4.0 |  **299900.0** | \n",
    "| 1940.0 | 4.0 |  **239999.0** | 1604.0 | 3.0 |  **242900.0** | 1811.0 | 4.0 |  **285900.0** | 1203.0 | 3.0 |  **239500.0** | \n",
    "| 2000.0 | 3.0 |  **347000.0** | 1962.0 | 4.0 |  **259900.0** | 1437.0 | 3.0 |  **249900.0** | \n",
    " \n",
    "Let's first get them into Python. For simplification we are going to use only one feature for the time being - the size of the house."
   ]
  },
  {
   "cell_type": "code",
   "execution_count": 8,
   "metadata": {},
   "outputs": [],
   "source": [
    "import numpy as np\n",
    "import matplotlib.pyplot as plt"
   ]
  },
  {
   "cell_type": "code",
   "execution_count": 9,
   "metadata": {},
   "outputs": [],
   "source": [
    "size = np.array([2104., 1600., 2400., 1416., 3000., 1985., 1534., 1427., 1380., \n",
    "       1494., 1940., 2000., 1890., 4478., 1268., 2300., 1320., 1236.,\n",
    "       2609., 3031., 1767., 1888., 1604., 1962., 3890., 1100., 1458.,\n",
    "       2526., 2200., 2637., 1839., 1000., 2040., 3137., 1811., 1437.,\n",
    "       1239., 2132., 4215., 2162., 1664., 2238., 2567., 1200.,  852.,\n",
    "       1852., 1203.])\n",
    "\n",
    "rooms = np.array([3., 3., 3., 2., 4., 4., 3., 3., 3., 3., 4., 3., 3., 5., 3., 4., 2.,\n",
    "       3., 4., 4., 3., 2., 3., 4., 3., 3., 3., 3., 3., 3., 2., 1., 4., 3.,\n",
    "       4., 3., 3., 4., 4., 4., 2., 3., 4., 3., 2., 4., 3.])\n",
    "\n",
    "price = np.array([399900., 329900., 369000., 232000., 539900., 299900., 314900.,\n",
    "       198999., 212000., 242500., 239999., 347000., 329999., 699900.,\n",
    "       259900., 449900., 299900., 199900., 499998., 599000., 252900.,\n",
    "       255000., 242900., 259900., 573900., 249900., 464500., 469000.,\n",
    "       475000., 299900., 349900., 169900., 314900., 579900., 285900.,\n",
    "       249900., 229900., 345000., 549000., 287000., 368500., 329900.,\n",
    "       314000., 299000., 179900., 299900., 239500.])"
   ]
  },
  {
   "cell_type": "markdown",
   "metadata": {},
   "source": [
    "The gradient descent function we used last time is the following. We have done a small modification to store and return the cost in every iteration, so that we can then plot the evolution of the cost during the optimisation (training) process."
   ]
  },
  {
   "cell_type": "code",
   "execution_count": 10,
   "metadata": {},
   "outputs": [
    {
     "name": "stdout",
     "output_type": "stream",
     "text": [
      "0.08050805332714407\n",
      "163.9249033496211\n"
     ]
    },
    {
     "data": {
      "text/plain": [
       "[<matplotlib.lines.Line2D at 0x213badf6b38>]"
      ]
     },
     "execution_count": 10,
     "metadata": {},
     "output_type": "execute_result"
    },
    {
     "data": {
      "image/png": "[encoded data removed]",
      "text/plain": [
       "<Figure size 432x288 with 1 Axes>"
      ]
     },
     "metadata": {
      "needs_background": "light"
     },
     "output_type": "display_data"
    }
   ],
   "source": [
    "def GradientDescent(x, y, max_iterations=100, alpha=1):\n",
    "    m = len(x) # number of samples\n",
    "    J = np.zeros(max_iterations)\n",
    "   \n",
    "    #initialize the parameters to zero (or any other random value)\n",
    "    theta0 = 0\n",
    "    theta1 = 0\n",
    "    \n",
    "    for it in range(max_iterations): #lets take a max of max_iteration steps updating the parameters\n",
    "        s0 = 0 # We will use this to calculate the sum inside the cost function\n",
    "        s1 = 0\n",
    "        for i in range(m): #Go over the points and calculate the sum\n",
    "            h = theta0 + theta1 * x[i]\n",
    "            s0 = s0 + (h - y[i])\n",
    "            s1 = s1 + (h - y[i])* x[i]\n",
    "            J[it] = J[it]+(h - y[i])**2\n",
    "        Grad0 = s0 / m \n",
    "        Grad1 = s1 / m \n",
    "        J[it] /= 2*m\n",
    "        \n",
    "        theta0 = theta0 - alpha * Grad0\n",
    "        theta1 = theta1 - alpha * Grad1\n",
    "        \n",
    "    return [theta0, theta1, J]\n",
    "    \n",
    "[theta0, theta1, J] = GradientDescent(size, price, alpha=0.00000001)\n",
    "\n",
    "print(theta0)\n",
    "print(theta1)\n",
    "plt.plot(np.arange(len(J)), J, 'go')"
   ]
  },
  {
   "cell_type": "markdown",
   "metadata": {},
   "source": [
    "<font color=blue>Use the above function with different initial values for the thetas. What do you observe?</font>"
   ]
  },
  {
   "cell_type": "markdown",
   "metadata": {},
   "source": [
    "---\n",
    "\n",
    "*Your answer here*\n",
    "\n",
    "---\n"
   ]
  },
  {
   "cell_type": "markdown",
   "metadata": {},
   "source": [
    "<font color=blue>Now normalise your data and do the gradient descent again. What do you observe in terms of the alpha required? What do you observe in terms of the final values obtained.</font>"
   ]
  },
  {
   "cell_type": "code",
   "execution_count": 11,
   "metadata": {},
   "outputs": [
    {
     "name": "stdout",
     "output_type": "stream",
     "text": [
      "338397.23647648585\n",
      "105137.95385000804\n"
     ]
    },
    {
     "data": {
      "text/plain": [
       "[<matplotlib.lines.Line2D at 0x213bdebac18>]"
      ]
     },
     "execution_count": 11,
     "metadata": {},
     "output_type": "execute_result"
    },
    {
     "data": {
      "image/png": "[encoded data removed]",
      "text/plain": [
       "<Figure size 432x288 with 1 Axes>"
      ]
     },
     "metadata": {
      "needs_background": "light"
     },
     "output_type": "display_data"
    }
   ],
   "source": [
    "# Your Code Here #\n",
    "\n",
    "size_norm = (size - np.mean(size))/(np.std(size))\n",
    "\n",
    "[theta0, theta1, J] = GradientDescent(size_norm, price, alpha=0.05)\n",
    "\n",
    "print(theta0)\n",
    "print(theta1)\n",
    "plt.plot(np.arange(len(J)), J, 'go')"
   ]
  },
  {
   "cell_type": "markdown",
   "metadata": {},
   "source": [
    "---\n",
    "\n",
    "*Your answer here*\n",
    "\n",
    "---\n"
   ]
  },
  {
   "cell_type": "markdown",
   "metadata": {},
   "source": [
    "<br>\n",
    "\n",
    "<font color=blue>Use the model you have calculated to predict the price of a house with `size = 3200` square feet.</font>"
   ]
  },
  {
   "cell_type": "code",
   "execution_count": 12,
   "metadata": {},
   "outputs": [],
   "source": [
    "# Your Code Here #\n"
   ]
  },
  {
   "cell_type": "markdown",
   "metadata": {},
   "source": [
    "Now let's rewrite our Gradient Descent function in a slightly more efficient form, using numpy, so that it can take as input a variable number of features. X in this case will be the design matrix of size (#samples $\\times$ #features + 1) and Y will be a vector of the true outputs of size (#samples $\\times$ 1)"
   ]
  },
  {
   "cell_type": "code",
   "execution_count": 13,
   "metadata": {},
   "outputs": [],
   "source": [
    "def GradientDescent_np(X, y, max_iterations=100, alpha=1):\n",
    "    m = X.shape[0] # number of samples\n",
    "    J = np.zeros(max_iterations)\n",
    "\n",
    "    # y must be a column vector of shape m x 1\n",
    "    y = y.reshape(m, 1)\n",
    "    \n",
    "    #initialize the parameters to zero\n",
    "    theta = np.zeros(shape=(X.shape[1], 1))\n",
    "    \n",
    "    # Repeat for max_iterations (it would be nice to also check convergence...)\n",
    "    for iteration in range(max_iterations):\n",
    "        grad = np.dot(X.T , (np.dot(X,theta) - y)) / m;\n",
    "        theta = theta - alpha*grad\n",
    "        J[iteration] = sum( (np.dot(X,theta) - y)**2)\n",
    "    return [theta, J]"
   ]
  },
  {
   "cell_type": "markdown",
   "metadata": {},
   "source": [
    "<br>\n",
    "\n",
    "Let's use the new version of Gradient Descent to calculate the parameter values "
   ]
  },
  {
   "cell_type": "code",
   "execution_count": 18,
   "metadata": {},
   "outputs": [
    {
     "name": "stdout",
     "output_type": "stream",
     "text": [
      "[[1.000e+00 2.104e+03]\n",
      " [1.000e+00 1.600e+03]\n",
      " [1.000e+00 2.400e+03]\n",
      " [1.000e+00 1.416e+03]]\n",
      "[[ 1.          0.13000987]\n",
      " [ 1.         -0.50418984]\n",
      " [ 1.          0.50247636]\n",
      " [ 1.         -0.73572306]]\n",
      "theta result:[[340403.61773803]\n",
      " [106903.9668554 ]]\n"
     ]
    },
    {
     "data": {
      "text/plain": [
       "[<matplotlib.lines.Line2D at 0x213bdfeb668>]"
      ]
     },
     "execution_count": 18,
     "metadata": {},
     "output_type": "execute_result"
    },
    {
     "data": {
      "image/png": "[encoded data removed]",
      "text/plain": [
       "<Figure size 432x288 with 1 Axes>"
      ]
     },
     "metadata": {
      "needs_background": "light"
     },
     "output_type": "display_data"
    }
   ],
   "source": [
    "#prepare the design matrix, starting with a column of ones (this is the x_0 for the bias term), \n",
    "#and concatenating the size feature\n",
    "X = np.hstack( (np.ones(shape=(size.shape[0], 1)), size.reshape(size.shape[0], 1)))\n",
    "\n",
    "#Let's print out a few samples to verify we have done this right\n",
    "print(X[0:4, :])\n",
    "\n",
    "# Scale features and set them to zero mean (standarize)\n",
    "mu = np.mean(X, 0) #calculate the mean for every column\n",
    "sigma = np.std(X, 0, ddof=1) #calculate the standard deviation for every column\n",
    "\n",
    "#normalize everything except X0 (the artificial first feature that we set to ones)\n",
    "X[:,1] = (X[:,1] - mu[1]) / sigma[1];\n",
    "\n",
    "#Let's print out a few samples to verify we have done this right\n",
    "print(X[0:4, :])\n",
    "\n",
    "[theta, J] = GradientDescent_np(X, price, alpha=0.1)\n",
    "print('theta result:{0}'.format(theta))\n",
    "\n",
    "plt.plot(np.arange(len(J)), J, 'bo')"
   ]
  },
  {
   "cell_type": "markdown",
   "metadata": {},
   "source": [
    "<font color=blue>Do the same, but this time using the rooms feature as well</font>"
   ]
  },
  {
   "cell_type": "code",
   "execution_count": 16,
   "metadata": {},
   "outputs": [],
   "source": [
    "# Your Code Here #\n"
   ]
  }
 ],
 "metadata": {
  "kernelspec": {
   "display_name": "Python 3",
   "language": "python",
   "name": "python3"
  },
  "language_info": {
   "codemirror_mode": {
    "name": "ipython",
    "version": 3
   },
   "file_extension": ".py",
   "mimetype": "text/x-python",
   "name": "python",
   "nbconvert_exporter": "python",
   "pygments_lexer": "ipython3",
   "version": "3.7.1"
  }
 },
 "nbformat": 4,
 "nbformat_minor": 4
}
